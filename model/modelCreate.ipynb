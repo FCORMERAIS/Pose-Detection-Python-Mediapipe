{
 "cells": [
  {
   "cell_type": "code",
   "execution_count": 1,
   "metadata": {},
   "outputs": [],
   "source": [
    "import cv2"
   ]
  },
  {
   "attachments": {},
   "cell_type": "markdown",
   "metadata": {},
   "source": [
    "## FOR MAKE THE VIDEO "
   ]
  },
  {
   "cell_type": "code",
   "execution_count": 2,
   "metadata": {},
   "outputs": [],
   "source": [
    "\n",
    "cap = cv2.VideoCapture(0)\n",
    "height = cap.get(cv2.CAP_PROP_FRAME_HEIGHT)\n",
    "width = cap.get(cv2.CAP_PROP_FRAME_WIDTH)\n",
    "fps = cap.get(cv2.CAP_PROP_FPS)\n",
    "videoWriter = cv2.VideoWriter('VGame.mp4',cv2.VideoWriter_fourcc('P','I','M','1'),fps,(int(width),int(height)))\n",
    "\n",
    "while cap.isOpened() :\n",
    "    ret,frame = cap.read()\n",
    "\n",
    "    try :\n",
    "        cv2.imshow('Vgame',frame)\n",
    "        videoWriter.write(frame)\n",
    "    except Exception as e :\n",
    "        break\n",
    "\n",
    "    if cv2.waitKey(10) & 0xFF == ord('q') :\n",
    "        break\n",
    "\n",
    "cap.release()\n",
    "videoWriter.release()\n",
    "cv2.destroyAllWindows() "
   ]
  },
  {
   "attachments": {},
   "cell_type": "markdown",
   "metadata": {},
   "source": [
    "# Take all the landmarks"
   ]
  },
  {
   "cell_type": "code",
   "execution_count": 3,
   "metadata": {},
   "outputs": [],
   "source": [
    "import csv\n",
    "import os\n",
    "import numpy as np\n",
    "from matplotlib import pyplot as plt\n",
    "import mediapipe as mp"
   ]
  },
  {
   "cell_type": "code",
   "execution_count": 18,
   "metadata": {},
   "outputs": [],
   "source": [
    "landmarks = ['class']\n",
    "for val in range (1,22) :\n",
    "    landmarks += ['x{}'.format(val),'y{}'.format(val),'z{}'.format(val)]"
   ]
  },
  {
   "cell_type": "code",
   "execution_count": null,
   "metadata": {},
   "outputs": [],
   "source": [
    "landmarks"
   ]
  },
  {
   "cell_type": "code",
   "execution_count": 6,
   "metadata": {},
   "outputs": [],
   "source": [
    "with open('coords.csv',mode='w',newline='') as f:\n",
    "    csv_writer = csv.writer(f,delimiter=',',quotechar='\"',quoting=csv.QUOTE_MINIMAL)\n",
    "    csv_writer.writerow(landmarks)"
   ]
  },
  {
   "cell_type": "code",
   "execution_count": 17,
   "metadata": {},
   "outputs": [],
   "source": [
    "def export_landmarks(results,action) :\n",
    "    try:\n",
    "        keypoints = np.array([[res.x,res.y,res.z] for res in results.right_hand_landmarks.landmark]).flatten().tolist()\n",
    "        keypoints.insert(0,action)\n",
    "        with open('coords.csv',mode='a',newline='') as f:\n",
    "            csv_writer = csv.writer(f,delimiter=',',quotechar='\"',quoting=csv.QUOTE_MINIMAL)\n",
    "            csv_writer.writerow(keypoints)\n",
    "    except Exception as e :\n",
    "        pass"
   ]
  },
  {
   "cell_type": "code",
   "execution_count": 11,
   "metadata": {},
   "outputs": [],
   "source": [
    "cap = cv2.VideoCapture('VGame.mp4')\n",
    "mp_holistic = mp.solutions.holistic\n",
    "mp_drawing = mp.solutions.drawing_utils\n",
    "mp_drawing.DrawingSpec(color=(0,0,255), thickness=2, circle_radius=2)\n",
    "\n",
    "\n",
    "with mp_holistic.Holistic(min_detection_confidence=0.5,min_tracking_confidence=0.5) as holistic :\n",
    "\n",
    "    while cap.isOpened() :\n",
    "        ret,frame = cap.read()\n",
    "\n",
    "        image = cv2.cvtColor(frame,cv2.COLOR_BGR2RGB)\n",
    "        image.flags.writeable = False \n",
    "\n",
    "        results = holistic.process(image)\n",
    "\n",
    "        image.flags.writeable = True\n",
    "        image = cv2.cvtColor(image, cv2.COLOR_RGB2BGR)\n",
    "        \n",
    "        mp_drawing.draw_landmarks(image, results.right_hand_landmarks, mp_holistic.HAND_CONNECTIONS, \n",
    "                                mp_drawing.DrawingSpec(color=(80,22,10), thickness=2, circle_radius=4),\n",
    "                                mp_drawing.DrawingSpec(color=(80,44,121), thickness=2, circle_radius=2)\n",
    "                                )\n",
    "        k = cv2.waitKey(1)\n",
    "        if k == 117 :\n",
    "            export_landmarks(results,'V')\n",
    "        if k == 100:\n",
    "            export_landmarks(results,'pasV')\n",
    "\n",
    "        cv2.imshow(\"Raw Webcam Feed\",image)\n",
    "\n",
    "        if cv2.waitKey(1) & 0xFF == ord('q') :\n",
    "            break\n",
    "\n",
    "cap.release()\n",
    "cv2.destroyAllWindows() "
   ]
  },
  {
   "attachments": {},
   "cell_type": "markdown",
   "metadata": {},
   "source": [
    "# Train the model with Scikit Learn"
   ]
  },
  {
   "cell_type": "code",
   "execution_count": 4,
   "metadata": {},
   "outputs": [],
   "source": [
    "import pandas as pd \n",
    "from sklearn.model_selection import train_test_split"
   ]
  },
  {
   "cell_type": "code",
   "execution_count": 5,
   "metadata": {},
   "outputs": [],
   "source": [
    "df = pd.read_csv('coords.csv')\n",
    "X = df.drop('class',axis=1)\n",
    "y = df['class']\n",
    "X_train, X_test,y_train,y_test = train_test_split(X,y,test_size=0.3,random_state=1234)"
   ]
  },
  {
   "cell_type": "code",
   "execution_count": 6,
   "metadata": {},
   "outputs": [],
   "source": [
    "from sklearn.pipeline import make_pipeline\n",
    "from sklearn.preprocessing import StandardScaler\n",
    "from sklearn.linear_model import LogisticRegression, RidgeClassifier\n",
    "from sklearn.ensemble import RandomForestClassifier, GradientBoostingClassifier"
   ]
  },
  {
   "cell_type": "code",
   "execution_count": 7,
   "metadata": {},
   "outputs": [],
   "source": [
    "pipeline = {\n",
    "    'lr' : make_pipeline(StandardScaler(), LogisticRegression()),\n",
    "    'rc' : make_pipeline(StandardScaler(),RidgeClassifier()),\n",
    "    'rf' : make_pipeline(StandardScaler(),RandomForestClassifier()),\n",
    "    'gb' : make_pipeline(StandardScaler(),RandomForestClassifier())\n",
    "}"
   ]
  },
  {
   "cell_type": "code",
   "execution_count": 14,
   "metadata": {},
   "outputs": [],
   "source": [
    "fit_model = {}\n",
    "for algo, pipeline in pipeline.items() :\n",
    "    model = pipeline.fit(X_train,y_train)\n",
    "    fit_model[algo] = model"
   ]
  },
  {
   "cell_type": "code",
   "execution_count": 8,
   "metadata": {},
   "outputs": [],
   "source": [
    "from sklearn.metrics import accuracy_score, precision_score, recall_score\n",
    "import pickle"
   ]
  },
  {
   "cell_type": "code",
   "execution_count": 15,
   "metadata": {},
   "outputs": [
    {
     "name": "stdout",
     "output_type": "stream",
     "text": [
      "lr 0.8947368421052632 0.9074074074074074 0.9074074074074074\n",
      "rc 0.8842105263157894 0.8771929824561403 0.9259259259259259\n",
      "rf 0.9368421052631579 0.9615384615384616 0.9259259259259259\n",
      "gb 0.8947368421052632 0.9230769230769231 0.8888888888888888\n"
     ]
    }
   ],
   "source": [
    "for algo,model in fit_model.items() : \n",
    "    yhat = model.predict(X_test)\n",
    "    # For knew the % of accuracy of our model\n",
    "    print(algo,accuracy_score(y_test.values, yhat),precision_score(y_test.values,yhat,average=\"binary\",pos_label=\"V\"),recall_score(y_test.values,yhat,average=\"binary\",pos_label=\"V\"))\n",
    "yhat = fit_model['rf'].predict(X_test)\n",
    "with open('Vgame.pkl','wb') as f :\n",
    "    pickle.dump(fit_model['rf'],f)"
   ]
  },
  {
   "attachments": {},
   "cell_type": "markdown",
   "metadata": {},
   "source": [
    "# Test model detection"
   ]
  },
  {
   "cell_type": "code",
   "execution_count": 9,
   "metadata": {},
   "outputs": [],
   "source": [
    "with open('Vgame.pkl','rb') as f :\n",
    "    model = pickle.load(f)"
   ]
  },
  {
   "cell_type": "code",
   "execution_count": 29,
   "metadata": {},
   "outputs": [
    {
     "name": "stdout",
     "output_type": "stream",
     "text": [
      "V [0.7 0.3]\n",
      "V [0.8 0.2]\n",
      "V [0.8 0.2]\n",
      "V [0.78 0.22]\n",
      "V [0.79 0.21]\n",
      "V [0.76 0.24]\n",
      "V [0.81 0.19]\n",
      "V [0.77 0.23]\n",
      "V [0.79 0.21]\n",
      "V [0.81 0.19]\n",
      "V [0.79 0.21]\n",
      "V [0.79 0.21]\n",
      "V [0.79 0.21]\n",
      "V [0.8 0.2]\n",
      "V [0.77 0.23]\n",
      "V [0.79 0.21]\n",
      "V [0.83 0.17]\n",
      "V [0.81 0.19]\n",
      "V [0.83 0.17]\n",
      "V [0.83 0.17]\n",
      "V [0.83 0.17]\n",
      "V [0.83 0.17]\n",
      "V [0.8 0.2]\n",
      "V [0.82 0.18]\n",
      "V [0.79 0.21]\n",
      "V [0.82 0.18]\n",
      "V [0.83 0.17]\n",
      "V [0.82 0.18]\n",
      "V [0.81 0.19]\n",
      "V [0.82 0.18]\n",
      "V [0.83 0.17]\n",
      "V [0.9 0.1]\n"
     ]
    }
   ],
   "source": [
    "cap = cv2.VideoCapture(0)\n",
    "counter = 0\n",
    "current_stage = \"\"\n",
    "\n",
    "with mp_holistic.Holistic(min_detection_confidence=0.5,min_tracking_confidence=0.5) as holistic : \n",
    "    while cap.isOpened() : \n",
    "        ret,frame = cap.read()\n",
    "\n",
    "        image  = cv2.cvtColor(frame,cv2.COLOR_BGR2RGB)\n",
    "        image.flags.writeable = False\n",
    "\n",
    "        results = holistic.process(image)\n",
    "\n",
    "        image.flags.writeable = True\n",
    "        image = cv2.cvtColor(image,cv2.COLOR_RGB2BGR)\n",
    "\n",
    "        mp_drawing.draw_landmarks(image, results.right_hand_landmarks, mp_holistic.HAND_CONNECTIONS, \n",
    "                        mp_drawing.DrawingSpec(color=(80,22,10), thickness=2, circle_radius=4),\n",
    "                        mp_drawing.DrawingSpec(color=(80,44,121), thickness=2, circle_radius=2)\n",
    "                        )\n",
    "        try :\n",
    "            row = np.array([[res.x,res.y,res.z] for res in results.right_hand_landmarks.landmark]).flatten().tolist()\n",
    "            X = pd.DataFrame([row],columns=landmarks[1:])\n",
    "            body_language_class = model.predict(X)[0]\n",
    "            body_language_prob = model.predict_proba(X)[0]\n",
    "            print(body_language_class,body_language_prob)\n",
    "\n",
    "            if body_language_class == 'pasV' and body_language_prob[body_language_prob.argmax()] >=0.7 :\n",
    "                current_stage = 'pasV'\n",
    "            elif current_stage == 'pasV' and body_language_class == 'V' and body_language_prob[body_language_prob.argmax()] >=0.7 :\n",
    "                current_stage = \"V\"\n",
    "                counter+=1\n",
    "\n",
    "            cv2.rectangle(image,(0,0),(250,60),(0,0,255),-1)\n",
    "            cv2.putText(image,'CLASS',(95,12),cv2.FONT_HERSHEY_SIMPLEX,0.5, (0,0,0),1, cv2.LINE_AA)\n",
    "            cv2.putText(image,body_language_class.split(' ')[0],(90,40),cv2.FONT_HERSHEY_SIMPLEX,1,(255,255,255),2,cv2.LINE_AA)\n",
    "            cv2.putText(image,'COUNT',(180,12),cv2.FONT_HERSHEY_SIMPLEX,0.5,(0,0,0),1,cv2.LINE_AA)\n",
    "            cv2.putText(image,str(counter),(175,40),cv2.FONT_HERSHEY_SIMPLEX,1,(255,255,255),2,cv2.LINE_AA)\n",
    "            cv2.putText(image,'PROB',(0,12),cv2.FONT_HERSHEY_SIMPLEX,0.5,(0,0,0),1,cv2.LINE_AA)\n",
    "            cv2.putText(image,str(max(body_language_prob)),(0,40),cv2.FONT_HERSHEY_SIMPLEX,1,(255,255,255),2,cv2.LINE_AA)\n",
    "\n",
    "        except Exception as e :\n",
    "            pass\n",
    "\n",
    "        cv2.imshow(\"Vgame\",image)\n",
    "        \n",
    "        if cv2.waitKey(1) & 0xFF == ord('q') :\n",
    "            break\n",
    "\n",
    "cap.release()\n",
    "cv2.destroyAllWindows() \n"
   ]
  }
 ],
 "metadata": {
  "kernelspec": {
   "display_name": "base",
   "language": "python",
   "name": "python3"
  },
  "language_info": {
   "codemirror_mode": {
    "name": "ipython",
    "version": 3
   },
   "file_extension": ".py",
   "mimetype": "text/x-python",
   "name": "python",
   "nbconvert_exporter": "python",
   "pygments_lexer": "ipython3",
   "version": "3.9.13"
  },
  "orig_nbformat": 4,
  "vscode": {
   "interpreter": {
    "hash": "763ed2d496715265b778e5e8bf480dcd988b1e52fe9394cc8e26f6b3fe5ce6cb"
   }
  }
 },
 "nbformat": 4,
 "nbformat_minor": 2
}
